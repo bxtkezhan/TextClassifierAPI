{
 "cells": [
  {
   "cell_type": "code",
   "execution_count": 1,
   "metadata": {
    "scrolled": true
   },
   "outputs": [
    {
     "name": "stderr",
     "output_type": "stream",
     "text": [
      "Using TensorFlow backend.\n"
     ]
    }
   ],
   "source": [
    "from fasttext import train_supervised"
   ]
  },
  {
   "cell_type": "code",
   "execution_count": 2,
   "metadata": {},
   "outputs": [],
   "source": [
    "from glob import glob\n",
    "import random"
   ]
  },
  {
   "cell_type": "code",
   "execution_count": 3,
   "metadata": {},
   "outputs": [
    {
     "data": {
      "text/plain": [
       "(1400, 3572)"
      ]
     },
     "execution_count": 3,
     "metadata": {},
     "output_type": "execute_result"
    }
   ],
   "source": [
    "spam_paths = glob('./datasets/spam_train/*.txt')\n",
    "ham_paths = glob('./datasets/ham_train/*.txt')\n",
    "# random.shuffle(spam_paths)\n",
    "# random.shuffle(ham_paths)\n",
    "\n",
    "len(spam_paths), len(ham_paths)"
   ]
  },
  {
   "cell_type": "code",
   "execution_count": 4,
   "metadata": {},
   "outputs": [
    {
     "name": "stdout",
     "output_type": "stream",
     "text": [
      "__label__spam , Subject: paramagnet isaac , ( 75 % off for all new softwares . windowxp , photoshop , window 2003 . . . etcmore gregarious , she was gently .\n",
      "__label__ham , Subject: lng - europe darren , thanks for the lead . i ' ll give sam a call . - - - - - - - - - - - - - - - - - - - - - - forwarded by brad hitch / eu / enron on 08 / 03 / 2001 09 : 11 - - - - - - - - - - - - - - - - - - - - - - - - - - - eric gonzales @ ect 07 / 03 / 2001 20 : 15 to : brad hitch / eu / enron @ enron cc : daren j farmer / hou / ect @ ect subject : lng - europe please follow up . eric - - - - - - - - - - - - - - - - - - - - - - forwarded by eric gonzales / lon / ect on 07 / 03 / 2001 21 : 18 - - - - - - - - - - - - - - - - - - - - - - - - - - - daren j farmer 07 / 03 / 2001 19 : 54 to : eric gonzales / lon / ect @ ect cc : subject : lng - europe eric , i recieved a call from a guy with pacific interlink ( ? ) . he is looking to market lng in europe . since i have very little knowledge in this area , i didn ' t get much specific information . but , i told him i would find someone for him to talk with . his name is sam kovacevich . phone : 847 - 971 - 3369 . i would appreciate it if you would give sam a call . if you aren ' t the person he needs to talk to , please let me know . thanks . daren farmer texas desk - gas\n"
     ]
    }
   ],
   "source": [
    "spam_list = []\n",
    "for path in spam_paths:\n",
    "    try:\n",
    "        with open(path) as f:\n",
    "            text = f.read()\n",
    "    except UnicodeDecodeError as e:\n",
    "        continue\n",
    "    text = text.replace('\\n', ' ')\n",
    "    text = text.strip()\n",
    "    text = '__label__spam , ' + text\n",
    "    spam_list.append(text)\n",
    "    \n",
    "ham_list = []\n",
    "for path in ham_paths:\n",
    "    try:\n",
    "        with open(path) as f:\n",
    "            text = f.read()\n",
    "    except UnicodeDecodeError as e:\n",
    "        continue\n",
    "    text = text.replace('\\n', ' ')\n",
    "    text = text.strip()\n",
    "    text = '__label__ham , ' + text\n",
    "    ham_list.append(text)\n",
    "\n",
    "train_list = spam_list + ham_list\n",
    "random.shuffle(train_list)\n",
    "\n",
    "print(spam_list[0])\n",
    "print(ham_list[0])"
   ]
  },
  {
   "cell_type": "code",
   "execution_count": 5,
   "metadata": {},
   "outputs": [],
   "source": [
    "data_path = './datasets/train.txt'\n",
    "with open(data_path, 'w') as f:\n",
    "    f.write('\\n'.join(train_list))"
   ]
  },
  {
   "cell_type": "code",
   "execution_count": 6,
   "metadata": {},
   "outputs": [
    {
     "name": "stdout",
     "output_type": "stream",
     "text": [
      "Adding 2-gram features\n",
      "Epoch 1/3\n",
      "4958/4958 [==============================] - 13s 3ms/step - loss: 0.1968 - precision: 0.9157 - recall: 0.9157\n",
      "Epoch 2/3\n",
      "4958/4958 [==============================] - 12s 2ms/step - loss: 0.0249 - precision: 0.9913 - recall: 0.9913\n",
      "Epoch 3/3\n",
      "4958/4958 [==============================] - 12s 2ms/step - loss: 0.0121 - precision: 0.9972 - recall: 0.9972\n"
     ]
    }
   ],
   "source": [
    "model_path = './FEmail.bin.gz'\n",
    "model = train_supervised(data_path, wordNgrams=2, lr=0.01, epoch=3, minCount=5)\n",
    "model.save_model(model_path)"
   ]
  },
  {
   "cell_type": "code",
   "execution_count": 7,
   "metadata": {},
   "outputs": [
    {
     "data": {
      "text/plain": [
       "[('__label__spam', 0.96641403), ('__label__ham', 0.033585936)]"
      ]
     },
     "execution_count": 7,
     "metadata": {},
     "output_type": "execute_result"
    }
   ],
   "source": [
    "text = '''\n",
    "Subject: re : milf neighbors lookin for . . . fbs\n",
    "s - e - x - y local singles inside !\n",
    "petticoat is isocline conduce but strove not prosecute litigate .\n",
    "here decimal holstein may platen and fiske die ,\n",
    "defrock not ash .\n",
    ". n . o . t . h . a . n . k . z . z . z\n",
    "'''.replace('\\n', ' ')\n",
    "model.predict(text, k=2)"
   ]
  }
 ],
 "metadata": {
  "kernelspec": {
   "display_name": "Python 3",
   "language": "python",
   "name": "python3"
  },
  "language_info": {
   "codemirror_mode": {
    "name": "ipython",
    "version": 3
   },
   "file_extension": ".py",
   "mimetype": "text/x-python",
   "name": "python",
   "nbconvert_exporter": "python",
   "pygments_lexer": "ipython3",
   "version": "3.5.2"
  }
 },
 "nbformat": 4,
 "nbformat_minor": 2
}
