{
 "cells": [
  {
   "cell_type": "markdown",
   "metadata": {},
   "source": [
    "### 导入需要的数据集，初次导入需要下载网络资料需要一定的实践"
   ]
  },
  {
   "cell_type": "code",
   "execution_count": 1,
   "metadata": {},
   "outputs": [],
   "source": [
    "from sklearn.datasets import fetch_20newsgroups"
   ]
  },
  {
   "cell_type": "code",
   "execution_count": 2,
   "metadata": {},
   "outputs": [],
   "source": [
    "category_hash = {\n",
    "    'misc.forsale': 'Sales',\n",
    "    'rec.motorcycles': 'Motorcycles',\n",
    "    'rec.sport.baseball': 'Baseball',\n",
    "    'sci.crypt': 'Cryptography',\n",
    "    'sci.space': 'Space'}"
   ]
  },
  {
   "cell_type": "code",
   "execution_count": 3,
   "metadata": {},
   "outputs": [],
   "source": [
    "training_data = fetch_20newsgroups(\n",
    "    subset='train', categories=category_hash.keys(),\n",
    "    shuffle=True, random_state=7)"
   ]
  },
  {
   "cell_type": "code",
   "execution_count": 4,
   "metadata": {
    "scrolled": true
   },
   "outputs": [
    {
     "data": {
      "text/plain": [
       "[\"From: demers@cs.ucsd.edu (David DeMers)\\nSubject: Re: Montreal Question.......\\nOrganization: CSE Dept., UC San Diego\\nLines: 13\\nNntp-Posting-Host: mbongo.ucsd.edu\\n\\n\\nIn article <1993Apr19.015442.15723@oz.plymouth.edu>, k_mullin@oz.plymouth.edu (Mully) writes:\\n|> \\n|>    What position does Mike Lansing play?  I cannot seem to find it \\n|>  anywhere.  Thanks!!!!1\\n\\nHe's a shortstop by training, but he's been at second (mostly) and third\\nthis year for the Expos.\\n-- \\nDave DeMers\\t\\t\\t \\t        demers@cs.ucsd.edu\\nComputer Science & Engineering\\t0114\\t\\tdemers%cs@ucsd.bitnet\\nUC San Diego\\t\\t\\t\\t\\t...!ucsd!cs!demers\\nLa Jolla, CA 92093-0114\\t(619) 534-0688, or -8187, FAX: (619) 534-7029\\n\",\n",
       " 'From: bclarke@galaxy.gov.bc.ca\\nSubject: Re: First Bike??\\nOrganization: BC Systems Corporation\\nLines: 8\\n\\nIn article <0forqFa00iUzMATnMz@andrew.cmu.edu>, James Leo Belliveau <jbc9+@andrew.cmu.edu> writes:\\n>     I am a serious motorcycle enthusiast without a motorcycle, and to\\n> put it bluntly, it sucks.  I really would like some advice on what would\\n\\nOh! For a second I thought this was a posting by Ed Green!\\n-- \\nBruce Clarke       B.C. Environment\\n                   e-mail: bclarke@galaxy.gov.bc.ca\\n']"
      ]
     },
     "execution_count": 4,
     "metadata": {},
     "output_type": "execute_result"
    }
   ],
   "source": [
    "training_data.data[:2]"
   ]
  },
  {
   "cell_type": "markdown",
   "metadata": {},
   "source": [
    "### 导入特征提取器用，训练数据提取特征"
   ]
  },
  {
   "cell_type": "code",
   "execution_count": 5,
   "metadata": {},
   "outputs": [],
   "source": [
    "from sklearn.feature_extraction.text import CountVectorizer"
   ]
  },
  {
   "cell_type": "code",
   "execution_count": 6,
   "metadata": {},
   "outputs": [
    {
     "data": {
      "text/plain": [
       "(2968, 40605)"
      ]
     },
     "execution_count": 6,
     "metadata": {},
     "output_type": "execute_result"
    }
   ],
   "source": [
    "vectorizer = CountVectorizer()\n",
    "X_train_termcounts = vectorizer.fit_transform(training_data.data)\n",
    "X_train_termcounts.shape"
   ]
  },
  {
   "cell_type": "markdown",
   "metadata": {},
   "source": [
    "### 接下来训练分类器。这里将用到多项式朴素贝叶斯(Multinomial Naive Bayes)分类器"
   ]
  },
  {
   "cell_type": "code",
   "execution_count": 7,
   "metadata": {},
   "outputs": [],
   "source": [
    "from sklearn.naive_bayes import MultinomialNB\n",
    "from sklearn.feature_extraction.text import TfidfTransformer"
   ]
  },
  {
   "cell_type": "code",
   "execution_count": 8,
   "metadata": {},
   "outputs": [],
   "source": [
    "input_data = [\n",
    "    \"The curveballs of right handed pitchers tend to curve to the left\",\n",
    "    \"Caesar cipher is an ancient form of encryption\",\n",
    "    \"This two-wheeler is really good on slippery roads\"]"
   ]
  },
  {
   "cell_type": "markdown",
   "metadata": {},
   "source": [
    "### 定义tf-idf变换器对象,并训练"
   ]
  },
  {
   "cell_type": "code",
   "execution_count": 9,
   "metadata": {},
   "outputs": [],
   "source": [
    "tfidf_transformer = TfidfTransformer()\n",
    "X_train_tfidf = tfidf_transformer.fit_transform(X_train_termcounts)"
   ]
  },
  {
   "cell_type": "code",
   "execution_count": 10,
   "metadata": {},
   "outputs": [],
   "source": [
    "classifier = MultinomialNB().fit(X_train_tfidf, training_data.target)"
   ]
  },
  {
   "cell_type": "code",
   "execution_count": 11,
   "metadata": {},
   "outputs": [],
   "source": [
    "X_input_termcounts = vectorizer.transform(input_data)"
   ]
  },
  {
   "cell_type": "code",
   "execution_count": 12,
   "metadata": {},
   "outputs": [],
   "source": [
    "X_input_tfidf = tfidf_transformer.transform(X_input_termcounts)"
   ]
  },
  {
   "cell_type": "code",
   "execution_count": 13,
   "metadata": {},
   "outputs": [],
   "source": [
    "predicted_categories = classifier.predict(X_input_tfidf)"
   ]
  },
  {
   "cell_type": "code",
   "execution_count": 14,
   "metadata": {},
   "outputs": [
    {
     "data": {
      "text/plain": [
       "array([2, 3, 1])"
      ]
     },
     "execution_count": 14,
     "metadata": {},
     "output_type": "execute_result"
    }
   ],
   "source": [
    "predicted_categories"
   ]
  },
  {
   "cell_type": "code",
   "execution_count": 15,
   "metadata": {
    "scrolled": true
   },
   "outputs": [
    {
     "name": "stdout",
     "output_type": "stream",
     "text": [
      "\n",
      "Input: The curveballs of right handed pitchers tend to curve to the left \n",
      "Predicted category: Baseball\n",
      "\n",
      "Input: Caesar cipher is an ancient form of encryption \n",
      "Predicted category: Cryptography\n",
      "\n",
      "Input: This two-wheeler is really good on slippery roads \n",
      "Predicted category: Motorcycles\n"
     ]
    }
   ],
   "source": [
    "for sentence, category in zip(input_data, predicted_categories):\n",
    "    print('\\nInput:', sentence,\n",
    "          '\\nPredicted category:', category_hash[training_data.target_names[category]])"
   ]
  }
 ],
 "metadata": {
  "kernelspec": {
   "display_name": "Python 3",
   "language": "python",
   "name": "python3"
  },
  "language_info": {
   "codemirror_mode": {
    "name": "ipython",
    "version": 3
   },
   "file_extension": ".py",
   "mimetype": "text/x-python",
   "name": "python",
   "nbconvert_exporter": "python",
   "pygments_lexer": "ipython3",
   "version": "3.5.2"
  }
 },
 "nbformat": 4,
 "nbformat_minor": 2
}
